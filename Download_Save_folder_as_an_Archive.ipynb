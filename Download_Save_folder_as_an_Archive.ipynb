{
  "nbformat": 4,
  "nbformat_minor": 0,
  "metadata": {
    "colab": {
      "name": "Download/Save folder as an Archive.ipynb",
      "provenance": [],
      "collapsed_sections": [],
      "authorship_tag": "ABX9TyMUkxOeu389QvJ2Qvib60V7"
    },
    "kernelspec": {
      "name": "python3",
      "display_name": "Python 3"
    },
    "language_info": {
      "name": "python"
    }
  },
  "cells": [
    {
      "cell_type": "code",
      "metadata": {
        "id": "MkyQDhQV7-Di"
      },
      "source": [
        "#@title [1] Mount Google Drive { vertical-output: true, display-mode: \"form\" }\n",
        "from google.colab import drive\n",
        "drive.mount('/content/drive', force_remount=True)\n",
        "#!echo May have to insert the code again for disconnected session."
      ],
      "execution_count": null,
      "outputs": []
    },
    {
      "cell_type": "code",
      "metadata": {
        "id": "Ebnxuba27PJS"
      },
      "source": [
        "#@title [2] Save and/or download the folder as a compressed archive file { vertical-output: true, display-mode: \"form\" }\n",
        "folder = '/content/drive/!' #@param {type: \"string\"}\n",
        "name = '' #@param {type: \"string\"}\n",
        "#@markdown <font size=2>DO NOT ADD FILE EXTENSION (.zip/.7z/.rar) in \"name\".</font><br>\n",
        "#@markdown <font size=2>If \"name\" is empty, then it'll create an archive with the name of \"folder\".</font>\n",
        "archive_type = 'zip' #@param ['zip','7z','rar','Password protected RAR']\n",
        "#@markdown <font size=2>*Password for \"Password protected RAR\" will be asked while compressing.</font>\n",
        "save_to_drive = False #@param {type:\"boolean\"}\n",
        "#@markdown <font size=2>if checked, it'll save the archive in the parent folder of \"folder\".</font>\n",
        "download_file = True #@param {type:\"boolean\"}\n",
        "#@markdown <font size=2>if unchecked, it'll not download the file after compressing.</font>\n",
        "#@markdown ___\n",
        "\n",
        "from google.colab import output\n",
        "import os\n",
        "\n",
        "if archive_type.strip()=='Password protected RAR':\n",
        "  format = 'rar'\n",
        "else:\n",
        "  format = archive_type\n",
        "\n",
        "if format.strip()=='rar':\n",
        "  !apt-get install rar\n",
        "  output.clear()\n",
        "\n",
        "if name.strip()=='':\n",
        "  %cd '{folder}'\n",
        "  ifolderpath = os.getcwd()\n",
        "  name = os.path.basename(ifolderpath)\n",
        "  %cd '/content'\n",
        "\n",
        "filename = name + '.' + format\n",
        "\n",
        "if save_to_drive:\n",
        "  %cd '{folder}'\n",
        "  %cd ..\n",
        "else:\n",
        "  %cd '/content'\n",
        "output_folder = os.getcwd()\n",
        "\n",
        "output.clear()\n",
        "\n",
        "if os.path.exists(filename):\n",
        "  print(filename + \" already exists! Removing it and making a new one.\")\n",
        "  os.remove(filename)\n",
        "else:\n",
        "  print('Creating ' + filename + ' in ' + output_folder)\n",
        "\n",
        "if archive_type.strip()=='zip':\n",
        "  !zip -r '{output_folder}/{filename}' '{folder}'\n",
        "elif archive_type.strip()=='7z':\n",
        "  !7z a '{output_folder}/{name}' '{folder}/*'\n",
        "elif archive_type.strip()=='rar':  \n",
        "  !rar a '{output_folder}/{name}' '{folder}'\n",
        "elif archive_type.strip()=='Password protected RAR':\n",
        "  !rar a -p '{output_folder}/{name}' '{folder}'\n",
        "\n",
        "output.clear()\n",
        "\n",
        "if download_file:\n",
        "  import google.colab.files\n",
        "  print('Downloading ' + filename + '...')\n",
        "  downloaded = google.colab.files.download(filename)\n",
        "else:\n",
        "  print(filename + ' successfully created in ' + output_folder + ' location')"
      ],
      "execution_count": null,
      "outputs": []
    }
  ]
}